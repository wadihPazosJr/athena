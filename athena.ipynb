{
 "cells": [
  {
   "cell_type": "code",
   "execution_count": 4,
   "metadata": {},
   "outputs": [],
   "source": [
    "import langchain\n",
    "from langchain.llms import GPT4All\n",
    "llm = GPT4All(model=\"./models/ggml-gpt4all-l13b-snoozy.bin\", n_ctx=512, n_threads=8)\n",
    "code_prompt = \"Im going to ask you to perform a task, your job is to create a program in Python that accomplishes this task. Output the function enclosed in $\"\"$. When creating the program work it out in a step by step way to be sure we have the right answer.\\n\\\n",
    "Examples:\\n\\\n",
    "Task: What is 5 + 8\\n\\\n",
    "$“def solution():\\n\\\n",
    "     Return 5 + 8”$\\n\\\n",
    "\\n\\\n",
    "Task: Calculate the area of a circle with radius 5\\n\\\n",
    "$“def solution():\\n\\\n",
    "    radius = 5\\n\\\n",
    "    pi = 3.14159\\n\\\n",
    "    return pi * (radius ** 2)”$\\n\\\n",
    "\\n\\\n",
    "Task: Print the first 20 numbers of the Fibonacci sequence\\n\\\n",
    "$“def solution():\\n\\\n",
    "    sequence = [0, 1]\\n\\\n",
    "    for i in range(2, 20):\\n\\\n",
    "        sequence.append(sequence[i-1] + sequence[i-2])\\n\\\n",
    "    return sequence”$\\n\\\n",
    "\\n\\\n",
    "Task: Analyze a text file and count the occurrences of each word\\n\\\n",
    "$“def solution(filename):\\n\\\n",
    "    word_counts = {}\\n\\\n",
    "    with open(filename, 'r') as file:\\n\\\n",
    "        for line in file:\\n\\\n",
    "            words = line.strip().split()\\n\\\n",
    "            for word in words:\\n\\\n",
    "                word = word.lower()\\n\\\n",
    "                if word in word_counts:\\n\\\n",
    "                    word_counts[word] += 1\\n\\\n",
    "                else:\\n\\\n",
    "                    word_counts[word] = 1\\n\\\n",
    "    return word_counts”$\\n\\\n",
    "\\n\\\n",
    "Task: \""
   ]
  },
  {
   "cell_type": "code",
   "execution_count": 5,
   "metadata": {},
   "outputs": [],
   "source": [
    "def parse_program(model_output):\n",
    "    # Parse the program from the model output\n",
    "    program = model_output.split(\"$\")[1]\n",
    "    return program"
   ]
  },
  {
   "cell_type": "code",
   "execution_count": 6,
   "metadata": {},
   "outputs": [],
   "source": [
    "def create_task_program(task):\n",
    "    revisor_prompt = \"You are a professional software developor that is known for reviewing code and offering perfect revisions. You have been asked to review the following code and offer revisions:\\n\\n\"\n",
    "    k = 1\n",
    "\n",
    "    #initial program draft\n",
    "    program = parse_program(llm(code_prompt + task))\n",
    "\n",
    "    for i in range(k):\n",
    "        revisions = llm(revisor_prompt + program)\n",
    "        program = parse_program(llm(f'A professional developer reviewed your code and had the following revisions:\\n\\n{revisions}\\n\\nCan you revise the following code with respect to the revisions:\\n\\n{program}\\n\\nOutput the function enclosed in $\"\"$. When creating the program work it out in a step by step way to be sure we have the right answer.'))\n",
    "    \n",
    "    return program"
   ]
  }
 ],
 "metadata": {
  "kernelspec": {
   "display_name": "Python 3",
   "language": "python",
   "name": "python3"
  },
  "language_info": {
   "codemirror_mode": {
    "name": "ipython",
    "version": 3
   },
   "file_extension": ".py",
   "mimetype": "text/x-python",
   "name": "python",
   "nbconvert_exporter": "python",
   "pygments_lexer": "ipython3",
   "version": "3.10.11"
  },
  "orig_nbformat": 4
 },
 "nbformat": 4,
 "nbformat_minor": 2
}
